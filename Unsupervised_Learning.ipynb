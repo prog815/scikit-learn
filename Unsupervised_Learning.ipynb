{
  "nbformat": 4,
  "nbformat_minor": 0,
  "metadata": {
    "colab": {
      "name": "Unsupervised Learning.ipynb",
      "provenance": [],
      "authorship_tag": "ABX9TyOUO3Wa+Z+nhkTuzxWCDtff",
      "include_colab_link": true
    },
    "kernelspec": {
      "name": "python3",
      "display_name": "Python 3"
    }
  },
  "cells": [
    {
      "cell_type": "markdown",
      "metadata": {
        "id": "view-in-github",
        "colab_type": "text"
      },
      "source": [
        "<a href=\"https://colab.research.google.com/github/prog815/scikit-learn/blob/master/Unsupervised_Learning.ipynb\" target=\"_parent\"><img src=\"https://colab.research.google.com/assets/colab-badge.svg\" alt=\"Open In Colab\"/></a>"
      ]
    },
    {
      "cell_type": "code",
      "metadata": {
        "id": "otBpBCWUkWGN"
      },
      "source": [
        "import numpy as np\r\n",
        "import pandas as pd\r\n",
        "from pylab import plt, mpl"
      ],
      "execution_count": 3,
      "outputs": []
    },
    {
      "cell_type": "code",
      "metadata": {
        "id": "YR3Zc8TBk97j"
      },
      "source": [
        "np.set_printoptions(precision=4,suppress=True)"
      ],
      "execution_count": 5,
      "outputs": []
    },
    {
      "cell_type": "code",
      "metadata": {
        "id": "cAPanYVel5sL"
      },
      "source": [
        "from sklearn.cluster import KMeans\r\n",
        "from sklearn.datasets import make_blobs"
      ],
      "execution_count": 6,
      "outputs": []
    },
    {
      "cell_type": "code",
      "metadata": {
        "id": "Sg6R7PikmVP6"
      },
      "source": [
        "x,y = make_blobs(n_samples=1000,centers=3)"
      ],
      "execution_count": 7,
      "outputs": []
    },
    {
      "cell_type": "code",
      "metadata": {
        "colab": {
          "base_uri": "https://localhost:8080/"
        },
        "id": "4eMJHpPgmsr6",
        "outputId": "cebb4657-6886-4308-bdf2-bb4aea4186b0"
      },
      "source": [
        "x.shape"
      ],
      "execution_count": 9,
      "outputs": [
        {
          "output_type": "execute_result",
          "data": {
            "text/plain": [
              "(1000, 2)"
            ]
          },
          "metadata": {
            "tags": []
          },
          "execution_count": 9
        }
      ]
    },
    {
      "cell_type": "code",
      "metadata": {
        "colab": {
          "base_uri": "https://localhost:8080/"
        },
        "id": "hMqBud6jm5Ea",
        "outputId": "fb2c249c-ca2f-4d6a-dc45-da46d87ea54f"
      },
      "source": [
        "y.shape"
      ],
      "execution_count": 11,
      "outputs": [
        {
          "output_type": "execute_result",
          "data": {
            "text/plain": [
              "(1000,)"
            ]
          },
          "metadata": {
            "tags": []
          },
          "execution_count": 11
        }
      ]
    },
    {
      "cell_type": "code",
      "metadata": {
        "colab": {
          "base_uri": "https://localhost:8080/",
          "height": 282
        },
        "id": "thmjYMTLm9hp",
        "outputId": "dc8f3542-cfd5-4416-cbbd-cb392d83116e"
      },
      "source": [
        "plt.scatter(x[:,0],x[:,1],c=y)"
      ],
      "execution_count": 14,
      "outputs": [
        {
          "output_type": "execute_result",
          "data": {
            "text/plain": [
              "<matplotlib.collections.PathCollection at 0x7fad37efacf8>"
            ]
          },
          "metadata": {
            "tags": []
          },
          "execution_count": 14
        },
        {
          "output_type": "display_data",
          "data": {
            "image/png": "[encoded data removed]",
            "text/plain": [
              "<Figure size 432x288 with 1 Axes>"
            ]
          },
          "metadata": {
            "tags": [],
            "needs_background": "light"
          }
        }
      ]
    },
    {
      "cell_type": "code",
      "metadata": {
        "id": "Dyz6IK71nY7Z"
      },
      "source": [
        "model = KMeans(n_clusters=len(np.unique(y)))"
      ],
      "execution_count": 22,
      "outputs": []
    },
    {
      "cell_type": "code",
      "metadata": {
        "colab": {
          "base_uri": "https://localhost:8080/"
        },
        "id": "H_g-2_bGqBUB",
        "outputId": "3f91f167-99a4-408c-de72-a7bf6b1b7ded"
      },
      "source": [
        "model.fit(x)"
      ],
      "execution_count": 23,
      "outputs": [
        {
          "output_type": "execute_result",
          "data": {
            "text/plain": [
              "KMeans(algorithm='auto', copy_x=True, init='k-means++', max_iter=300,\n",
              "       n_clusters=3, n_init=10, n_jobs=None, precompute_distances='auto',\n",
              "       random_state=None, tol=0.0001, verbose=0)"
            ]
          },
          "metadata": {
            "tags": []
          },
          "execution_count": 23
        }
      ]
    },
    {
      "cell_type": "code",
      "metadata": {
        "id": "GPxQWvHhqOtx"
      },
      "source": [
        "y_ = model.predict(x)"
      ],
      "execution_count": 24,
      "outputs": []
    },
    {
      "cell_type": "code",
      "metadata": {
        "colab": {
          "base_uri": "https://localhost:8080/"
        },
        "id": "us9pw3m9qVfB",
        "outputId": "2d4636b4-3c38-4f91-f240-8d5045de10db"
      },
      "source": [
        "y"
      ],
      "execution_count": 25,
      "outputs": [
        {
          "output_type": "execute_result",
          "data": {
            "text/plain": [
              "array([0, 0, 2, 1, 1, 1, 0, 1, 2, 0, 0, 0, 0, 0, 0, 0, 0, 0, 2, 0, 0, 2,\n",
              "       2, 0, 0, 1, 2, 2, 1, 1, 0, 1, 2, 1, 0, 2, 0, 0, 1, 1, 0, 1, 1, 2,\n",
              "       2, 2, 1, 0, 0, 1, 2, 2, 1, 1, 1, 0, 2, 2, 0, 2, 2, 1, 2, 2, 0, 0,\n",
              "       2, 0, 1, 1, 0, 2, 1, 1, 1, 1, 1, 1, 1, 0, 2, 0, 2, 0, 2, 0, 1, 0,\n",
              "       0, 0, 0, 1, 1, 2, 1, 2, 2, 0, 2, 0, 1, 2, 2, 1, 2, 1, 0, 2, 0, 0,\n",
              "       2, 2, 0, 0, 0, 2, 2, 2, 1, 0, 2, 2, 0, 2, 1, 1, 0, 1, 0, 2, 0, 2,\n",
              "       0, 0, 1, 2, 0, 2, 0, 2, 2, 1, 0, 1, 1, 0, 1, 1, 2, 1, 0, 2, 1, 1,\n",
              "       0, 2, 2, 2, 0, 2, 1, 2, 1, 2, 1, 2, 1, 2, 0, 0, 0, 1, 0, 0, 0, 1,\n",
              "       1, 0, 2, 0, 1, 0, 1, 2, 0, 2, 2, 0, 2, 0, 1, 1, 1, 2, 2, 1, 2, 2,\n",
              "       1, 2, 0, 2, 1, 1, 1, 2, 2, 0, 2, 0, 2, 1, 1, 2, 1, 1, 0, 1, 1, 2,\n",
              "       2, 0, 2, 1, 1, 1, 1, 2, 1, 1, 0, 1, 2, 2, 1, 1, 2, 1, 2, 0, 0, 0,\n",
              "       1, 1, 1, 1, 1, 0, 0, 1, 1, 2, 0, 0, 1, 1, 1, 1, 0, 2, 1, 1, 0, 2,\n",
              "       0, 0, 2, 2, 0, 2, 1, 1, 1, 2, 1, 0, 1, 0, 2, 0, 0, 1, 0, 0, 1, 2,\n",
              "       1, 0, 0, 0, 1, 0, 1, 1, 1, 0, 1, 1, 2, 0, 2, 1, 1, 0, 0, 2, 0, 2,\n",
              "       2, 1, 0, 0, 2, 0, 2, 0, 2, 1, 1, 0, 1, 1, 0, 0, 2, 2, 2, 1, 1, 2,\n",
              "       2, 0, 1, 2, 1, 2, 2, 0, 2, 0, 2, 2, 0, 1, 0, 1, 2, 2, 1, 1, 0, 1,\n",
              "       0, 0, 2, 1, 1, 1, 1, 2, 2, 1, 1, 0, 1, 2, 2, 1, 0, 2, 2, 2, 2, 0,\n",
              "       0, 0, 2, 0, 1, 0, 2, 1, 2, 1, 1, 2, 0, 1, 2, 2, 2, 0, 2, 0, 0, 1,\n",
              "       2, 2, 2, 1, 1, 0, 0, 0, 2, 2, 2, 2, 0, 1, 1, 2, 0, 1, 2, 2, 2, 2,\n",
              "       1, 1, 2, 2, 1, 2, 1, 0, 0, 1, 1, 1, 0, 1, 0, 2, 2, 2, 0, 1, 1, 1,\n",
              "       1, 2, 0, 1, 2, 0, 0, 1, 1, 0, 2, 0, 0, 2, 1, 0, 0, 0, 1, 0, 2, 1,\n",
              "       0, 1, 2, 2, 1, 2, 1, 1, 0, 0, 2, 0, 0, 1, 0, 1, 2, 0, 2, 1, 1, 2,\n",
              "       1, 1, 2, 2, 2, 0, 1, 1, 2, 0, 1, 0, 1, 0, 2, 2, 1, 0, 0, 1, 2, 0,\n",
              "       0, 2, 1, 1, 2, 1, 1, 0, 1, 0, 0, 2, 2, 2, 2, 1, 0, 2, 1, 1, 2, 2,\n",
              "       1, 0, 0, 0, 0, 2, 2, 0, 2, 1, 2, 2, 2, 2, 2, 2, 0, 1, 1, 2, 0, 1,\n",
              "       1, 0, 1, 0, 2, 2, 0, 0, 2, 2, 2, 0, 2, 1, 0, 1, 0, 0, 2, 0, 0, 2,\n",
              "       2, 0, 2, 0, 0, 2, 2, 0, 1, 1, 1, 0, 0, 0, 1, 2, 2, 0, 0, 2, 0, 0,\n",
              "       2, 1, 1, 2, 1, 1, 0, 0, 0, 0, 1, 2, 2, 0, 1, 0, 2, 0, 2, 0, 0, 1,\n",
              "       0, 2, 0, 1, 1, 1, 1, 1, 1, 2, 1, 1, 0, 0, 2, 2, 1, 2, 2, 1, 0, 2,\n",
              "       2, 1, 1, 2, 2, 0, 1, 2, 0, 1, 2, 1, 0, 2, 2, 1, 0, 2, 2, 0, 0, 1,\n",
              "       0, 2, 2, 2, 0, 2, 0, 1, 2, 2, 0, 0, 1, 1, 1, 0, 0, 2, 2, 2, 1, 1,\n",
              "       2, 0, 1, 0, 2, 0, 2, 1, 2, 0, 2, 2, 0, 1, 0, 1, 0, 2, 0, 0, 0, 0,\n",
              "       2, 2, 2, 1, 2, 0, 2, 1, 1, 1, 2, 0, 0, 2, 1, 1, 2, 2, 1, 1, 1, 2,\n",
              "       0, 0, 2, 1, 0, 1, 2, 0, 1, 0, 0, 0, 0, 0, 2, 0, 0, 0, 0, 1, 2, 0,\n",
              "       2, 2, 1, 2, 2, 0, 2, 2, 0, 0, 0, 2, 1, 0, 1, 1, 0, 2, 0, 1, 1, 2,\n",
              "       2, 1, 2, 0, 1, 2, 2, 0, 1, 0, 0, 0, 0, 0, 1, 1, 2, 2, 1, 1, 1, 2,\n",
              "       2, 1, 1, 2, 1, 0, 1, 1, 0, 0, 2, 1, 2, 1, 1, 1, 0, 1, 0, 1, 0, 1,\n",
              "       0, 2, 1, 1, 1, 0, 1, 1, 0, 0, 0, 1, 2, 1, 0, 1, 1, 0, 2, 0, 0, 1,\n",
              "       0, 1, 2, 2, 1, 0, 2, 2, 1, 0, 2, 1, 2, 0, 2, 0, 2, 0, 2, 2, 1, 2,\n",
              "       2, 1, 0, 0, 0, 2, 2, 2, 0, 0, 0, 1, 2, 2, 2, 1, 0, 2, 0, 2, 1, 2,\n",
              "       0, 2, 1, 1, 0, 1, 2, 1, 2, 0, 0, 1, 1, 0, 2, 0, 2, 0, 0, 2, 2, 0,\n",
              "       0, 1, 1, 1, 0, 2, 2, 1, 0, 1, 2, 2, 2, 0, 1, 1, 1, 2, 1, 2, 0, 2,\n",
              "       1, 1, 1, 2, 1, 1, 1, 2, 1, 0, 2, 0, 1, 1, 0, 0, 1, 0, 2, 1, 0, 2,\n",
              "       2, 1, 1, 2, 2, 2, 0, 2, 1, 2, 0, 1, 0, 2, 0, 2, 1, 2, 2, 0, 0, 0,\n",
              "       0, 0, 0, 0, 0, 0, 1, 1, 2, 2, 1, 2, 0, 1, 0, 0, 2, 2, 0, 1, 1, 0,\n",
              "       1, 2, 1, 2, 1, 1, 1, 0, 2, 1])"
            ]
          },
          "metadata": {
            "tags": []
          },
          "execution_count": 25
        }
      ]
    },
    {
      "cell_type": "code",
      "metadata": {
        "colab": {
          "base_uri": "https://localhost:8080/"
        },
        "id": "3dOuwckcqYnh",
        "outputId": "ce410b93-ed26-44af-f008-b766e44f0092"
      },
      "source": [
        "y_"
      ],
      "execution_count": 26,
      "outputs": [
        {
          "output_type": "execute_result",
          "data": {
            "text/plain": [
              "array([2, 2, 0, 1, 1, 1, 2, 1, 0, 2, 2, 2, 2, 2, 2, 2, 2, 2, 0, 2, 2, 0,\n",
              "       0, 2, 2, 1, 0, 0, 1, 1, 2, 1, 0, 1, 2, 0, 2, 2, 1, 1, 2, 1, 1, 0,\n",
              "       0, 0, 1, 2, 2, 1, 0, 0, 1, 1, 1, 2, 0, 0, 2, 0, 0, 1, 0, 0, 2, 2,\n",
              "       0, 2, 1, 1, 2, 0, 1, 1, 1, 1, 1, 1, 1, 2, 0, 2, 0, 2, 0, 2, 1, 2,\n",
              "       2, 2, 2, 1, 1, 0, 1, 0, 0, 2, 0, 2, 1, 0, 0, 1, 0, 1, 2, 0, 2, 2,\n",
              "       0, 0, 2, 2, 2, 0, 0, 0, 1, 2, 0, 0, 2, 0, 1, 1, 2, 1, 2, 0, 2, 0,\n",
              "       2, 2, 1, 0, 2, 0, 2, 0, 0, 1, 2, 1, 1, 2, 1, 1, 0, 1, 2, 0, 1, 1,\n",
              "       2, 0, 0, 0, 2, 0, 1, 0, 1, 0, 1, 0, 1, 0, 2, 2, 2, 1, 2, 2, 2, 1,\n",
              "       1, 2, 0, 2, 1, 2, 1, 0, 2, 0, 0, 2, 0, 2, 1, 1, 1, 0, 0, 1, 0, 0,\n",
              "       1, 0, 2, 0, 1, 1, 1, 0, 0, 2, 0, 2, 0, 1, 1, 0, 1, 1, 2, 1, 1, 0,\n",
              "       0, 2, 0, 1, 1, 1, 1, 0, 1, 1, 2, 1, 0, 0, 1, 1, 0, 1, 0, 2, 2, 2,\n",
              "       1, 1, 1, 1, 1, 2, 2, 1, 1, 0, 2, 2, 1, 1, 1, 1, 2, 0, 1, 1, 2, 0,\n",
              "       2, 2, 0, 0, 2, 0, 1, 1, 1, 0, 1, 2, 1, 2, 0, 2, 2, 1, 2, 2, 1, 0,\n",
              "       1, 2, 2, 2, 1, 2, 1, 1, 1, 2, 1, 1, 0, 2, 0, 1, 1, 2, 2, 0, 2, 0,\n",
              "       0, 1, 2, 2, 0, 2, 0, 2, 0, 1, 1, 2, 1, 1, 2, 2, 0, 0, 0, 1, 1, 0,\n",
              "       0, 2, 1, 0, 1, 0, 0, 2, 0, 2, 0, 0, 2, 1, 2, 1, 0, 0, 1, 1, 2, 1,\n",
              "       2, 2, 0, 1, 1, 1, 1, 0, 0, 1, 1, 2, 1, 0, 0, 1, 2, 0, 0, 0, 0, 2,\n",
              "       2, 2, 0, 2, 1, 2, 0, 1, 0, 1, 1, 0, 2, 1, 0, 0, 0, 2, 0, 2, 2, 1,\n",
              "       0, 0, 0, 1, 1, 2, 2, 2, 0, 0, 0, 0, 2, 1, 1, 0, 2, 1, 0, 0, 0, 0,\n",
              "       1, 1, 0, 0, 1, 0, 1, 2, 2, 1, 1, 1, 2, 1, 2, 0, 0, 0, 2, 1, 1, 1,\n",
              "       1, 0, 2, 1, 0, 2, 2, 1, 1, 2, 0, 2, 2, 0, 1, 2, 2, 2, 1, 2, 0, 1,\n",
              "       2, 1, 0, 0, 1, 0, 1, 1, 2, 2, 0, 2, 2, 1, 2, 1, 0, 2, 0, 1, 1, 0,\n",
              "       1, 1, 0, 0, 0, 2, 1, 1, 0, 2, 1, 2, 1, 2, 0, 0, 1, 2, 2, 1, 0, 2,\n",
              "       2, 0, 1, 1, 0, 1, 1, 2, 1, 2, 2, 0, 0, 0, 0, 1, 2, 0, 1, 1, 0, 0,\n",
              "       1, 2, 2, 2, 2, 0, 0, 2, 0, 1, 0, 0, 0, 0, 0, 0, 2, 1, 1, 0, 2, 1,\n",
              "       1, 2, 1, 2, 0, 0, 2, 2, 0, 0, 0, 2, 0, 1, 2, 1, 2, 2, 0, 2, 2, 0,\n",
              "       0, 2, 0, 2, 2, 0, 0, 2, 1, 1, 1, 2, 2, 2, 1, 0, 0, 2, 2, 0, 2, 2,\n",
              "       0, 1, 1, 0, 1, 1, 2, 2, 2, 2, 1, 0, 0, 2, 1, 2, 0, 2, 0, 2, 2, 1,\n",
              "       2, 0, 2, 1, 1, 1, 1, 1, 1, 0, 1, 1, 2, 2, 0, 0, 1, 0, 0, 1, 2, 0,\n",
              "       0, 1, 1, 0, 0, 2, 1, 0, 2, 1, 0, 1, 2, 0, 0, 1, 2, 0, 0, 2, 2, 1,\n",
              "       2, 0, 0, 0, 2, 0, 2, 1, 0, 0, 2, 2, 1, 1, 1, 2, 2, 0, 0, 0, 1, 1,\n",
              "       0, 2, 1, 2, 0, 2, 0, 1, 0, 2, 0, 0, 2, 1, 2, 1, 2, 0, 2, 2, 2, 2,\n",
              "       0, 0, 0, 1, 0, 2, 0, 1, 1, 1, 0, 2, 2, 0, 1, 1, 0, 0, 1, 1, 1, 0,\n",
              "       2, 2, 0, 1, 2, 1, 0, 2, 1, 2, 2, 2, 2, 2, 0, 2, 2, 2, 2, 1, 0, 2,\n",
              "       0, 0, 1, 0, 0, 2, 0, 0, 2, 2, 2, 0, 1, 2, 1, 1, 2, 0, 2, 1, 1, 0,\n",
              "       0, 1, 0, 2, 1, 0, 0, 2, 1, 2, 2, 2, 2, 2, 1, 1, 0, 0, 1, 1, 1, 0,\n",
              "       0, 1, 1, 0, 1, 2, 1, 1, 2, 2, 0, 1, 0, 1, 1, 1, 2, 1, 2, 1, 2, 1,\n",
              "       2, 0, 1, 1, 1, 2, 1, 1, 2, 2, 2, 1, 0, 1, 2, 1, 1, 2, 0, 2, 2, 1,\n",
              "       2, 1, 0, 0, 1, 2, 0, 0, 1, 2, 0, 1, 0, 2, 0, 2, 0, 2, 0, 0, 1, 0,\n",
              "       0, 1, 2, 2, 2, 0, 0, 0, 2, 2, 2, 1, 0, 0, 0, 1, 2, 0, 2, 0, 1, 0,\n",
              "       2, 0, 1, 1, 2, 1, 0, 1, 0, 2, 2, 1, 1, 2, 0, 2, 0, 2, 2, 0, 0, 2,\n",
              "       2, 1, 1, 1, 2, 0, 0, 1, 2, 1, 0, 0, 0, 2, 1, 1, 1, 0, 1, 0, 2, 0,\n",
              "       1, 1, 1, 0, 1, 1, 1, 0, 1, 2, 0, 2, 1, 1, 2, 2, 1, 2, 0, 1, 2, 0,\n",
              "       0, 1, 1, 0, 0, 0, 2, 0, 1, 0, 2, 1, 2, 0, 2, 0, 1, 0, 0, 2, 2, 2,\n",
              "       2, 2, 2, 2, 2, 2, 1, 1, 0, 0, 1, 0, 2, 1, 2, 2, 0, 0, 2, 1, 1, 2,\n",
              "       1, 0, 1, 0, 1, 1, 1, 2, 0, 1], dtype=int32)"
            ]
          },
          "metadata": {
            "tags": []
          },
          "execution_count": 26
        }
      ]
    },
    {
      "cell_type": "code",
      "metadata": {
        "colab": {
          "base_uri": "https://localhost:8080/",
          "height": 282
        },
        "id": "eYGMgMroqacJ",
        "outputId": "ae2401ab-a2e2-4853-aa48-96f42c910f38"
      },
      "source": [
        "plt.scatter(x[:,0],x[:,1],c=y_)"
      ],
      "execution_count": 28,
      "outputs": [
        {
          "output_type": "execute_result",
          "data": {
            "text/plain": [
              "<matplotlib.collections.PathCollection at 0x7fad40ded128>"
            ]
          },
          "metadata": {
            "tags": []
          },
          "execution_count": 28
        },
        {
          "output_type": "display_data",
          "data": {
            "image/png": "[encoded data removed]",
            "text/plain": [
              "<Figure size 432x288 with 1 Axes>"
            ]
          },
          "metadata": {
            "tags": [],
            "needs_background": "light"
          }
        }
      ]
    }
  ]
}